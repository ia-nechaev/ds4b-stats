{
  "nbformat": 4,
  "nbformat_minor": 0,
  "metadata": {
    "colab": {
      "provenance": [],
      "collapsed_sections": [],
      "include_colab_link": true
    },
    "kernelspec": {
      "name": "python3",
      "display_name": "Python 3"
    },
    "language_info": {
      "name": "python"
    }
  },
  "cells": [
    {
      "cell_type": "markdown",
      "metadata": {
        "id": "view-in-github",
        "colab_type": "text"
      },
      "source": [
        "<a href=\"https://colab.research.google.com/github/ia-nechaev/ds4b-stats/blob/main/Exercise2_answers.ipynb\" target=\"_parent\"><img src=\"https://colab.research.google.com/assets/colab-badge.svg\" alt=\"Open In Colab\"/></a>"
      ]
    },
    {
      "cell_type": "markdown",
      "source": [
        "# Introduction\n",
        "\n",
        "We will start working with **discrete random variables and probability distributions** for experiments fulfilling specific conditions.  \n",
        "\n",
        "A **Discrete probability distribution** is an equation that connects each possible value of a discrete random variable with its probability of occurrence.\n",
        "\n",
        "Again, we have some **sub-types** of discrete random variables and distributions.\n",
        "\n",
        "Every sub-type of a random variable is the number of sucesses that result from **a particular type of experiment**. \n",
        "\n",
        "Today, we will work with four types of experiments in order to better understand discrete random variables and their distributions.  \n",
        "\n",
        "\n",
        "\n"
      ],
      "metadata": {
        "id": "uWV2R80JIYcH"
      }
    },
    {
      "cell_type": "markdown",
      "source": [
        "## Probability\n",
        "\n",
        "\n"
      ],
      "metadata": {
        "id": "r2Vje5yV1f6i"
      }
    },
    {
      "cell_type": "markdown",
      "source": [
        "### Simple probability\n",
        "Refers to the probability of an event without any condition.\n",
        "Probability of an event X, P(X) is given by\n",
        "$P(X) = \\frac{Number \\, of \\, observations \\, in \\, favor \\, of \\, an \\, event \\, X}{Total \\, Number \\, of \\, observations}$ "
      ],
      "metadata": {
        "id": "RjFaYDGr2Z6N"
      }
    },
    {
      "cell_type": "markdown",
      "source": [
        "### Joint Probability\n",
        "Refers to the probability of occurrence involving two or more events.\n",
        "Let A and B be the two events in a sample space. Then the joint probability if the two events denoted by $P(A \\, \\cap \\, B)$, is given by \n",
        "$P(A \\cap B) = \\frac{Number \\, of \\, observations \\, in \\, A \\,\\cap \\, B } {Total \\, Number \\, of \\, observations}$ "
      ],
      "metadata": {
        "id": "3dLVOq6X1r5U"
      }
    },
    {
      "cell_type": "markdown",
      "source": [
        "\n",
        "### Conditional Probability\n",
        "Refers to the probability of event A, given information about the occurrence of another event B. Probability of A given B is written as $P(A \\mid B)$.\n",
        "\n",
        "$P(A \\mid B) = \\frac{P(A \\, and \\, B)}{P(B)}$\n",
        "\n",
        "where\n",
        "* $P(A \\mid B)$ — joint probability of A and B;\n",
        "* $P(B)$ — probability of B"
      ],
      "metadata": {
        "id": "8NOEcvlZ12Cj"
      }
    },
    {
      "cell_type": "markdown",
      "source": [
        "### Example\n",
        "\n",
        "The following table describes loan default status at a bank and their marital status. \n",
        "\n",
        "| Marital Status | Loan Defaulted | Loan No Default | Total |\n",
        "| ----------- | ------ | ------- | -------- |\n",
        "| Single | 42 | 258 | 300 |\n",
        "| Married | 60 | 590 | 650 |\n",
        "| Divorced | 13 | 37 | 50 |\n",
        "| Total | 115 | 885 | 1000 |\n",
        "\n",
        "Based on the above table, calculate the probability of default given divorced."
      ],
      "metadata": {
        "id": "oihyurGB14SY"
      }
    },
    {
      "cell_type": "code",
      "source": [
        "# P1 = P(Default and Divorced)\n",
        "P1   = 13 / 1000\n",
        "# P2 = P(Divorced)\n",
        "P2   = 50 / 1000\n",
        "#P3  = P(Default | Divorced) = P(Default and Divorced) / P(Divorced)\n",
        "P3   = P1 / P2\n",
        "print('P(Default | Divorced)  is %1.4f' %P3) # %"
      ],
      "metadata": {
        "id": "VLGiQX2e2COR"
      },
      "execution_count": null,
      "outputs": []
    },
    {
      "cell_type": "markdown",
      "source": [
        "### Warm-up exercise\n",
        "\n",
        "| Occupation Status | Loan defaulted | Loan non-default | Total |\n",
        "| ----------------- | ---- | ----- | ---- |\n",
        "| Self Employed     | 80 | 240 | 320 |\n",
        "| Employed in Private Sector | 120 | 860 | 980 |\n",
        "| Employed in Government Sector | 200 | 3000 | 3200 |\n",
        "| Total | 400 | 4100 | 4500 | \n",
        "\n",
        "What is the conditional probability of default, given the occupation category Self Employed?"
      ],
      "metadata": {
        "id": "JjWTEBR719v6"
      }
    },
    {
      "cell_type": "code",
      "source": [
        "# P1 = P(Default and Self-employed)\n",
        "P1   = 80 / 4500\n",
        "# P2 = P(Self-employed)\n",
        "P2   = 320 / 4500\n",
        "#P3  = P(Default | Self-employed) = P(Default and Self-employed) / P(Self-employed)\n",
        "P3   = P1 / P2\n",
        "print('P(Default | Self-employed)  is %1.4f' %P3) # %"
      ],
      "metadata": {
        "id": "j92braxg2q8Y"
      },
      "execution_count": null,
      "outputs": []
    },
    {
      "cell_type": "markdown",
      "source": [
        "# 1. Raffle "
      ],
      "metadata": {
        "id": "HJk_7sLyFZUR"
      }
    },
    {
      "cell_type": "markdown",
      "source": [
        "##Experimental conditions\n",
        "\n",
        "1.   We randomly pick one alphabetic letter. The letter E. Then, we put the names of students (subjects) in a raffle hat ($n=6$)\n",
        "2.   We assume that half of our subjects are liquorice lover and the other haft are chocolate lovers  \n",
        "\n",
        "3. At random, we draw a name out of the hat\n",
        "\n",
        "4. We draw three names\n",
        "\n",
        "5. One name for a liquorice prize\n",
        "\n",
        "6. Two names for two chocolate prizes\n",
        "\n",
        "After the names are drawn, we don't put the names back in the hat.\n",
        "\n",
        "\n",
        "![hat.webp](data:image/webp;base64,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)"
      ],
      "metadata": {
        "id": "3H-sKbrkRPM5"
      }
    },
    {
      "cell_type": "markdown",
      "source": [
        "##Theoretical conditions of a hypergeometric experiment\n",
        "\n",
        "In class, you learned about the hypergeometric distribution. Do you remember the three main conditions for a hypergeometric experiment,\n",
        "\n",
        "1.   the population__________\n",
        "2.   the experiment__________\n",
        "3.   the random variable_____\n",
        "\n",
        "Can a raffle be classified as hypergeometric experiment? "
      ],
      "metadata": {
        "id": "WgnEZF9qp9UP"
      }
    },
    {
      "cell_type": "markdown",
      "source": [
        "## Probability?\n",
        "\n",
        "Now that we have determined that the raffle is an hypergeometric experiment. Then, we can use the hypergeomeric distribution to determine the probability that in a draw there will be one and only one liquorice lover? "
      ],
      "metadata": {
        "id": "xMvJ1gNLbDv3"
      }
    },
    {
      "cell_type": "markdown",
      "source": [
        "##Tools \n",
        "###Probability formula for hypergeometric distribution\n",
        "\n",
        "$$h(x)=\\frac{\\binom{A}{x}\\binom{N-A}{n-x}}{\\binom{N}{n}}$$\n",
        "\n",
        "$${\\binom{A}{x}}=C_A^x=\\frac{A!}{x!(A-x)!}$$\n"
      ],
      "metadata": {
        "id": "P-4vbWn-gm7j"
      }
    },
    {
      "cell_type": "markdown",
      "source": [
        "##Let's try it out\n",
        "\n",
        "In this hypergeometric experiment, we know the following:\n",
        "\n",
        "$N = 6$; since there are $6$ student names in the hat.\n",
        "\n",
        "$A = 3$; since there are $3$ liquorice lovers.\n",
        "\n",
        "$n = 3$; since we randomly select $3$ names from the hat.\n",
        "\n",
        "$x = 1$; since $1$ of the prizes is a liquorice prize.\n",
        "\n",
        "We plug these values into the hypergeometric formula as follows:\n",
        "\n",
        "$$h(x; N, n, A) =  \\frac{ C_A^x * C_{N-A}^{n-x}}{ C_N^n }$$\n",
        "\n",
        "$$h(1; 6, 3, 3) =  \\frac{ C_3^1 * C_3^2 }{ C_6^3 }$$\n",
        "\n",
        "$$h(1; 6, 3, 3) =  \\frac{ {\\frac{3!}{1!(3-1)!}} * {\\frac{3!}{2!(3-2)!}} }{ {\\frac{6!}{3!(6-3)!}}  }$$\n",
        "\n",
        "\n",
        "$$h(1; 6, 3, 3) =  \\frac{ 3 * 3 }{ 20}$$\n",
        "\n",
        "$$h(1; 6, 3, 3) = 0.45$$\n",
        "\n",
        "Thus, the probability of finding only one liquorice lover in a draw is $0.45$."
      ],
      "metadata": {
        "id": "nQNbCirw0iz2"
      }
    },
    {
      "cell_type": "markdown",
      "source": [
        "# 2. Trivia \n"
      ],
      "metadata": {
        "id": "OokDZKyfIG--"
      }
    },
    {
      "cell_type": "markdown",
      "source": [
        "##Experimental conditions\n",
        "\n",
        "1. Pair yourselves up, $2$ and $2$\n",
        "2. Now locate the list of 10 trivia questions found here: https://docs.google.com/document/d/1P8LyQElIgtcuHE9DT1kncNj2uo-tvrx7Lbe1xN_QEI4/edit?usp=sharing\n",
        "3. Try to answer the trivia questions and write down your answer attempt \n",
        "4. Check your answers against the answer key (found here: https://docs.google.com/document/d/1K-fmZchX1wMEeMTPOhUglesYGui9YPSDHlOVeF7CVVM/edit?usp=sharing) \n",
        "5.  Write down your success or failure in answering each trivia question\n"
      ],
      "metadata": {
        "id": "vmQw5sTQwHUy"
      }
    },
    {
      "cell_type": "markdown",
      "source": [
        "##Theoretical conditions for a binominal experiment\n",
        "\n",
        "In class, you learned about the bionomial distribution. Do you remember what conditions had to be met for an experiment to be classified as binomial:\n",
        "\n",
        "1. The outcome______\n",
        "2. Trials___________\n",
        "3. The probability of success_______________\n",
        "\n",
        "Can trivia be classified as binominal experiment? "
      ],
      "metadata": {
        "id": "lc6MGkd13UQl"
      }
    },
    {
      "cell_type": "markdown",
      "source": [
        "##Probability?\n",
        "\n",
        "Now that we have determined that trivia is a binominal experiment, \n",
        "\n",
        "1. we can use the probability formula for the bionomial distribution to calculate the probaility that you will successfully answer 15 of the 20 questions in this game? \n",
        "\n",
        "2. Can you explain why trivia is a binominal experiment and not a hypergeometric experiment?\n",
        "  "
      ],
      "metadata": {
        "id": "R3kO4MfL813h"
      }
    },
    {
      "cell_type": "markdown",
      "source": [
        "##Tools\n",
        "###Probability formula for binomial distribution\n",
        "\n",
        "$$P(x)= \\frac{n!}{x!(n-x)!}p^x (1-p)^{n-x}$$\n",
        "\n",
        "\n",
        "\n",
        "$$P(x)= {C_n^x}*p^x (1-p)^{n-x}$$"
      ],
      "metadata": {
        "id": "cAsNY1h80hsi"
      }
    },
    {
      "cell_type": "markdown",
      "source": [
        "##Let's try it out...\n",
        "\n",
        "\n",
        "\n"
      ],
      "metadata": {
        "id": "ItiN6O0j4HuL"
      }
    },
    {
      "cell_type": "markdown",
      "source": [
        "In the binomial experiment, we know the following:\n",
        "\n",
        "$X$ = 15 since $x$ the number of successes \n",
        "\n",
        "$n$ = 20 since $n$ is the number of trials \n",
        "\n",
        "$P$ = 0.5 since $P$ is the probability of success on an individual trial\n",
        "\n",
        "$Q$ = 0.5 since $Q$ is equal to $(1 -p)$\n",
        "\n",
        "$n!$ = the factorial of 20 (e.g., $20*19*18*17...$)\n",
        "\n",
        "Now lets plug in the values of the binomial formula as follows:\n",
        "\n",
        "\n",
        "\n",
        "$$ b(15; 20, 0.5) = [ C_{20}^{15} ] *[ 0.5 ^{15}] * [0.5 ^{5}]$$\n",
        "\n",
        "\n",
        "$$ b(15; 20, 0.5) = \\frac{[ 20*19*18*17*16]}{[120]} * {[ 0.00003] * [0.03]} $$\n",
        "\n",
        "$$ b(15; 20, 0.5) = 0.01 $$\n",
        "\n",
        "\n",
        "Thus, the probability of a trivia player randomly getting fifteen right answers on twenty questions is $0.01$\n",
        "\n",
        "\n"
      ],
      "metadata": {
        "id": "anHC5_lKCXNO"
      }
    },
    {
      "cell_type": "markdown",
      "source": [
        "# Python Exercises"
      ],
      "metadata": {
        "id": "v5ctewzF9Bv9"
      }
    },
    {
      "cell_type": "markdown",
      "source": [
        "## Raffle: Chocolate vs Liquorice (hypergeom)"
      ],
      "metadata": {
        "id": "LZtFm5PSqPto"
      }
    },
    {
      "cell_type": "code",
      "source": [
        "# Load packages\n",
        "import numpy as np #Package for numerical multidimensional tables\n",
        "import pandas as pd #Package for data frames\n",
        "import seaborn as sns\n",
        "import matplotlib.pyplot as plt #Package for plots and graphs\n",
        "from scipy import stats \n",
        "sns.set()"
      ],
      "metadata": {
        "id": "xHWmSbd7YXC0"
      },
      "execution_count": null,
      "outputs": []
    },
    {
      "cell_type": "code",
      "source": [
        "# First method (approx)\n",
        "# N=6; since there are 6 student names in the hat. k=3; since there are 3 licorise lovers. n=3; since we randomly select 3 names from the hat. x=1; since 1 of the prizes is a licorice price.\n",
        "\n",
        "rng = np.random.default_rng()\n",
        "\n",
        "s = rng.hypergeometric(3, 3, 3, 100000)\n",
        "\n",
        "sum(s==1)/100000"
      ],
      "metadata": {
        "id": "wjW7YYZdvIdG"
      },
      "execution_count": null,
      "outputs": []
    },
    {
      "cell_type": "code",
      "source": [
        "# Second method (precise)\n",
        "\n",
        "M = 6  # Total number (N)\n",
        "n = 3  # Number of Type I (n) \n",
        "N = 3   # Number of draws (A)\n",
        "k = 1   # Number of Type I we want in a draw\n",
        "\n",
        "hpd = stats.hypergeom(M, n, N)\n",
        "p = hpd.pmf(k)\n",
        "round(p,3)"
      ],
      "metadata": {
        "id": "RV5aUabY4wac"
      },
      "execution_count": null,
      "outputs": []
    },
    {
      "cell_type": "markdown",
      "source": [
        "### Real-world data\n",
        "\n",
        "Please answer this [questionaire #1](https://forms.gle/VAxBJTxZ6Tutivog9) and calculate the probability that there will be one liquorice lover in a draw of three.\n",
        "\n",
        "Random three right answers receive the prizes"
      ],
      "metadata": {
        "id": "MMue5FT-9tuQ"
      }
    },
    {
      "cell_type": "code",
      "source": [
        "M = 200  # Total number (N)\n",
        "n = 70  # Number of Type I (n) \n",
        "N = 3   # Number of draws (A)\n",
        "k = 1   # Number of Type I we want in a draw\n",
        "\n",
        "hpd = stats.hypergeom(M, n, N)\n",
        "p = hpd.pmf(k)\n",
        "round(p,3)\n"
      ],
      "metadata": {
        "id": "fyd34-jp88Ne"
      },
      "execution_count": null,
      "outputs": []
    },
    {
      "cell_type": "markdown",
      "source": [
        "Please provide you answer [here](https://forms.gle/ba95wRj9pYYbtufy9) if you want to compete for a prize."
      ],
      "metadata": {
        "id": "rqz24BfOtRgO"
      }
    },
    {
      "cell_type": "code",
      "source": [
        "df = pd.read_csv('Answer to raffle question.csv.zip')\n",
        "df.info()"
      ],
      "metadata": {
        "id": "ruI2phW2tRNv"
      },
      "execution_count": null,
      "outputs": []
    },
    {
      "cell_type": "code",
      "source": [
        "df.iloc[:,2]==round(p,3)"
      ],
      "metadata": {
        "id": "zJ4okp2byfM_"
      },
      "execution_count": null,
      "outputs": []
    },
    {
      "cell_type": "code",
      "source": [
        "#df[df.iloc[:,2]==round(p,3)].sample(n=3)"
      ],
      "metadata": {
        "id": "1kOPyP4Ev5jN"
      },
      "execution_count": null,
      "outputs": []
    },
    {
      "cell_type": "markdown",
      "source": [
        "## Trivia check\n",
        "\n",
        "X = 15 since x the number of successes\n",
        "\n",
        "n = 20 since n is the number of trials\n",
        "\n",
        "P = 0.5 since P is the probability of success on an individual trial\n",
        "\n",
        "Q = 0.5 since Q is equal to (1−p)"
      ],
      "metadata": {
        "id": "OUXFn0BI6Sh5"
      }
    },
    {
      "cell_type": "code",
      "source": [
        "from scipy.special import comb\n",
        "\n",
        "x = 15 #since x the number of successes\n",
        "n = 20 #since n is the number of trials\n",
        "p= 0.5 #since P is the probability of success on an individual trial\n",
        "\n",
        "# reproduce formula for probability, use comb for C\n",
        "bin_prob = comb(n, x) * (p ** x) * ((1-p) ** (n-x))\n",
        "bin_prob"
      ],
      "metadata": {
        "id": "hI-qDmM66dMH"
      },
      "execution_count": null,
      "outputs": []
    },
    {
      "cell_type": "code",
      "source": [
        "# check whether you obtained right results with your own data:\n"
      ],
      "metadata": {
        "id": "AzssxqQu8ZaV"
      },
      "execution_count": null,
      "outputs": []
    },
    {
      "cell_type": "markdown",
      "source": [
        "## Coin flip experiment (binomial)\n",
        "\n",
        "Visualisation of coin flip ([link](https://www.random.org/coins/?num=1&cur=60-dkk.10kr))"
      ],
      "metadata": {
        "id": "56mvQvCsmvax"
      }
    },
    {
      "cell_type": "markdown",
      "source": [
        "### Making a coin flip game"
      ],
      "metadata": {
        "id": "02cfEeI_yNX1"
      }
    },
    {
      "cell_type": "code",
      "source": [
        "# random number generator\n",
        "rng = np.random.default_rng(12345)\n",
        "rng.random()"
      ],
      "metadata": {
        "id": "EBpDx52im1CH"
      },
      "execution_count": null,
      "outputs": []
    },
    {
      "cell_type": "code",
      "source": [
        "# coin flip function\n",
        "def coin_flip(p):\n",
        "    return(1*(rng.random()>=p))"
      ],
      "metadata": {
        "id": "o933_cUCJnNo"
      },
      "execution_count": null,
      "outputs": []
    },
    {
      "cell_type": "code",
      "source": [
        "# testing coin flip\n",
        "coin_flip(1/2)\n"
      ],
      "metadata": {
        "id": "kyMPlFeil8wM"
      },
      "execution_count": null,
      "outputs": []
    },
    {
      "cell_type": "code",
      "source": [
        "# coin game function\n",
        "def game(n,p=0.5): # number of games, probability\n",
        "    draw = []\n",
        "    for i in range(0,n):\n",
        "            draw.append(coin_flip(p))\n",
        "    return(draw)"
      ],
      "metadata": {
        "id": "ZZ8F_bYynKY3"
      },
      "execution_count": null,
      "outputs": []
    },
    {
      "cell_type": "code",
      "source": [
        "# Play the coin game 10 times\n",
        "game(10)"
      ],
      "metadata": {
        "id": "wMbOPCdUnZUC"
      },
      "execution_count": null,
      "outputs": []
    },
    {
      "cell_type": "code",
      "source": [
        "# Check the mean of 10 games\n",
        "coin_mean = np.mean(game(10))\n",
        "coin_mean"
      ],
      "metadata": {
        "id": "7Tns2ekrl6V4"
      },
      "execution_count": null,
      "outputs": []
    },
    {
      "cell_type": "markdown",
      "source": [
        "### Virtual fliping\n",
        "\n",
        "Visualisation of coin flip game ([link](https://www.random.org/coins/?num=10&cur=60-dkk.10kr))\n",
        "\n",
        "Please answer this coin-flip [questionaire #2](https://forms.gle/3YyvVAKQB6GtbpiC6)"
      ],
      "metadata": {
        "id": "DDH-eJIemTQA"
      }
    },
    {
      "cell_type": "code",
      "source": [
        "import pandas as pd\n",
        "import numpy as np\n",
        "\n",
        "df = pd.read_csv('Coin toss.csv.zip')\n",
        "df = df.iloc[: , 1:]"
      ],
      "metadata": {
        "id": "AYB6idklpU69"
      },
      "execution_count": null,
      "outputs": []
    },
    {
      "cell_type": "code",
      "source": [
        "df.to_xarray()\n",
        "coin_tosses = np.asarray(df.unstack())\n",
        "#coin_tosses"
      ],
      "metadata": {
        "id": "wf0Ihkk6p2Ia"
      },
      "execution_count": null,
      "outputs": []
    },
    {
      "cell_type": "code",
      "source": [
        "coin_tosses.mean()/10"
      ],
      "metadata": {
        "id": "sMxUOsUerRPt"
      },
      "execution_count": null,
      "outputs": []
    },
    {
      "cell_type": "markdown",
      "source": [
        "## Law of Large Numbers"
      ],
      "metadata": {
        "id": "pi7DccYNqhih"
      }
    },
    {
      "cell_type": "code",
      "source": [
        "means = []\n",
        "N = 1000\n",
        "for i in range(10,N):\n",
        "  means.append(np.mean(game(i)))\n",
        "\n",
        "plt.plot(means)\n",
        "plt.axhline(y=0.5,color='red')\n",
        "plt.title('Mean as number of experiments in a game increases')\n",
        "plt.xlabel('Number of flips')\n",
        "plt.show()"
      ],
      "metadata": {
        "id": "o-alFca9n08i"
      },
      "execution_count": null,
      "outputs": []
    },
    {
      "cell_type": "markdown",
      "source": [
        "# Generating distributions"
      ],
      "metadata": {
        "id": "nXbkQnQQskER"
      }
    },
    {
      "cell_type": "code",
      "source": [
        "x = np.random.binomial(n=10, p=0.5, size=200)\n",
        "sns.distplot(x)\n",
        "plt.show()"
      ],
      "metadata": {
        "id": "H8z39GVdgz2u"
      },
      "execution_count": null,
      "outputs": []
    },
    {
      "cell_type": "code",
      "source": [
        "# generating distributions\n",
        "n=100\n",
        "ngood, nbad, nsamp = 100, 20, 10 # for hypergeometric distribution\n",
        "\n",
        "mydist = pd.DataFrame({'normal': np.random.normal(size=n), \n",
        "                       'binomial': np.random.binomial(n=10, p=0.5, size=n), \n",
        "                       'poisson': np.random.poisson(size=n),\n",
        "                       'hgeo': np.random.hypergeometric(ngood, nbad, nsamp, size=n),\n",
        "                       'geo': np.random.geometric(0.5, size=n)})"
      ],
      "metadata": {
        "id": "Gd3H9mZxZy6x"
      },
      "execution_count": null,
      "outputs": []
    },
    {
      "cell_type": "code",
      "source": [
        "fig, axes = plt.subplots(nrows=1, ncols=5, figsize=(12, 4))\n",
        "for i,var in enumerate(['normal','binomial','poisson','hgeo','geo']):\n",
        "    mydist[var].hist(ax=axes[i]) \n",
        "axes[0].set_ylabel('Frequences')\n",
        "axes[0].set_xlabel('Values')\n",
        "\n"
      ],
      "metadata": {
        "id": "Nqn5uEKLeLtW"
      },
      "execution_count": null,
      "outputs": []
    },
    {
      "cell_type": "code",
      "source": [
        "mydist['normal'].hist()\n",
        "mydist['normal'].plot.kde(secondary_y=True)  #Plotting the density"
      ],
      "metadata": {
        "id": "aUdvYoSlf26D"
      },
      "execution_count": null,
      "outputs": []
    },
    {
      "cell_type": "code",
      "source": [
        "fig, axes = plt.subplots(nrows=1, ncols=5, figsize=(20, 6),constrained_layout = True)\n",
        "for i,var in enumerate(['normal','binomial','poisson','hgeo','geo']):\n",
        "    mydist[var].hist(ax=axes[i])\n",
        "    mydist[var].plot.kde(secondary_y=True, ax=axes[i])\n"
      ],
      "metadata": {
        "id": "opuZb6KKe3vM"
      },
      "execution_count": null,
      "outputs": []
    },
    {
      "cell_type": "markdown",
      "source": [
        "# 3. Bingo \n"
      ],
      "metadata": {
        "id": "dCJOv-zMINBX"
      }
    },
    {
      "cell_type": "markdown",
      "source": [
        "## Experimental conditions\n",
        "\n",
        "1. Pair yourselves up, $2$ and $2$\n",
        "2. One of you, pick your bingo plate here: https://docs.google.com/document/d/184eMxKAHrhFbZ4vjFzTNqf8pK8c4P97qyA1dZlneBh0/edit?usp=sharing\n",
        "3. The other, run the number generator to establish the order of numbers to be called out.\n"
      ],
      "metadata": {
        "id": "7qmvJXMoOVtB"
      }
    },
    {
      "cell_type": "code",
      "source": [
        "# Start the number generator wheel\n",
        "import numpy as np \n",
        "import random\n",
        "\n",
        "# Setting up the number of trials\n",
        "x = np.array([1, 2, 3, 4, 5, 6, 7, 8, 9, 10, 11, 12, 13, 14, 15, 16, 17, 18, 19, 20])\n",
        "\n",
        "# Pick 1 number out of 20 at random\n",
        "np.random.permutation(x)[:1] "
      ],
      "metadata": {
        "id": "y815vpoQPE0X"
      },
      "execution_count": null,
      "outputs": []
    },
    {
      "cell_type": "markdown",
      "source": [
        "4. Let the game begin. Call out the numbers, as you generate them. \n",
        "5. Your partner has bingo (success) when he/she fills one horizonal row on the bingo plate\n",
        "6. Make sure to count the number of failures before the bingo success \n"
      ],
      "metadata": {
        "id": "R8ZByFV5YyM2"
      }
    },
    {
      "cell_type": "markdown",
      "source": [
        "## Theoretical conditions of a geometric experiment\n",
        "\n",
        "In class, you learned about the geometric distribution. Do you remember the conditions that need to be met for an experiment to be classified as geometric:\n",
        "\n",
        "1. There are _______ outcomes for each trial \n",
        "\n",
        "2. The trials are independent\n",
        "\n",
        "3. The probability of _________ is the same for each trial\n",
        "\n",
        "Can we determine that our bingo can be classified as a geometric experiment?\n",
        "\n"
      ],
      "metadata": {
        "id": "2rNeRSm1yP5d"
      }
    },
    {
      "cell_type": "markdown",
      "source": [
        "## Probability?\n",
        "\n",
        "Now that we have established that our bingo game a geometric experiment, can we use the geometric distribution to calculate other success outcomes. \n",
        " \n",
        "1. Based on your first bingo game, can you try to calculate your bingo success probability?\n",
        "\n",
        "2. Our bingo game is an example of a Bernoulli trial, but a real bingo game is not. Why is that?\n"
      ],
      "metadata": {
        "id": "VI210v77bR2U"
      }
    },
    {
      "cell_type": "markdown",
      "source": [
        "## Tools\n",
        "###Probability formula for geometric distribution\n",
        "\n",
        "$$p(x)=(1-p)^{x-1}p$$\n",
        "\n"
      ],
      "metadata": {
        "id": "4KBmwSslnPnw"
      }
    },
    {
      "cell_type": "markdown",
      "source": [
        "##Let's try it out...\n",
        "\n",
        "Assume it takes $4$ callouts before you have bingo on the 5 number.\n",
        "\n",
        "The probability of success (P) is $\\frac{1}{20}$ or $0.05$\n",
        "\n",
        "The number of trials $(x)$ is $4$\n",
        "\n",
        "The number of successes $(r)$ is $1$ \n",
        "\n",
        "$$p(4; 0.05) = (1-0.05)^3 * 0.05$$\n",
        "$$p(4; 0.05) = 0.857 * 0.05 = 0.04$$"
      ],
      "metadata": {
        "id": "J5ijwXdM5Lwq"
      }
    },
    {
      "cell_type": "markdown",
      "source": [
        "# 4. Tongue Twister \n",
        "\n",
        "How many danish tongue twisters can non-native speakers say during a minute?"
      ],
      "metadata": {
        "id": "pX4S2CM1lmSi"
      }
    },
    {
      "cell_type": "markdown",
      "source": [
        "\n",
        "## Experimental conditions  \n",
        "\n",
        "1.  We establish an average number of tongue twister successes within a fixed interval of time or space, in this case, 1 minute. \n",
        "\n",
        "Lets try it out. \n",
        "\n",
        "Specifically, for ***1 minute*** danish-native speakers are asked to say as many of the following english tongue-twister phases as humanly possible: \n",
        "\n",
        "\n",
        "1. **\"How can a clam cram in a clean cream can?\"**\n",
        "\n",
        "2. **\"Send toast to ten tense stout saints’ ten tall tents.\"**\n",
        "\n",
        "3. **\"Brisk brave brigadiers brandished broad bright blades, blunderbusses, and bludgeons—balancing them badly.\"**\n",
        "\n",
        "4. **“Rory the warrior and Roger the worrier were reared wrongly in a rural brewery.”**\n",
        "\n",
        "5. **“Six sick hicks nick six slick bricks with picks and sticks.”**\n",
        "\n",
        "6. **\"I wish to wish the wish you wish to wish, but if you wish the wish the witch wishes, I won’t wish the wish you wish to wish.\"**\n",
        "\n",
        "  \n",
        "\n",
        "\n"
      ],
      "metadata": {
        "id": "aky05I2gLwtM"
      }
    },
    {
      "cell_type": "markdown",
      "source": [
        "##Teoretical conditions for a poisson experiment\n",
        "\n",
        "In class, the conditions of a poission experiment were discussed, do you remember what they were?\n",
        "\n",
        "1.\n",
        "\n",
        "2.\n",
        "\n",
        "3.\n",
        "\n",
        "\n",
        "\n"
      ],
      "metadata": {
        "id": "xoxSJKH2x0K0"
      }
    },
    {
      "cell_type": "markdown",
      "source": [
        "##Probability? \n",
        "\n",
        "\n",
        "Our small sample of non-native danish speakers completed an average of ... tongue twisters in 1 minute.\n",
        "\n",
        "1.   What is the probability that a non-native speaker will complete 8 tongue twisters in a minute?\n"
      ],
      "metadata": {
        "id": "QOcBezqyXw9L"
      }
    },
    {
      "cell_type": "markdown",
      "source": [
        "## Tools\n",
        "\n",
        "###Probability formula for the poisson distribution\n",
        "\n",
        "$$P(x;\\mu)=\\frac{(e^{-\\mu})({\\mu^x)}}{x!}$$\n",
        "\n"
      ],
      "metadata": {
        "id": "Vqaao1byf-fK"
      }
    },
    {
      "cell_type": "markdown",
      "source": [
        "##Let's try it out...\n",
        "\n",
        "$$P(x; μ) = \\frac{(e^{-\\mu}) ({\\mu}^x)}{x!}$$\n",
        "\n",
        "$\\mu = 5$; if we assume five tongue twisters were completed in $1$ minute, on average. NB: you can apply own rate.\n",
        "\n",
        "$x = 8$; since we want to find the likelihood that $8$ tongue twisters will be completed by a non-native speaker.\n",
        "\n",
        "$e = 2.71828$; since $e$ is a constant equal to approximately $2.71828$.\n",
        "\n",
        "\n",
        "We plug these values into the Poisson formula as follows:\n",
        "\n",
        "$$P(x; μ) = \\frac{(e^{-\\mu})({\\mu}^x)}{x!}$$\n",
        "\n",
        "$$P(8; 5) = \\frac{(2.71828^{-5})(5^8)}{8!}$$\n",
        "\n",
        "$$P(8; 5) = \\frac{(0.0067) (390 625)}{8!}$$\n",
        "\n",
        "$$P(8; 5) = 0.065$$\n",
        "\n",
        "Thus, the probability of saying $8$ tongue twisters in one minute is $0.065$.\n"
      ],
      "metadata": {
        "id": "9AgF646NsohA"
      }
    },
    {
      "cell_type": "markdown",
      "source": [
        "When we work with random discrete variables in business settings, we often asked to calculate probabilities and establish distributions from much larger samples. It can quickly become confusing.\n",
        "\n",
        "Luckily, python can help. We just need to understand how. \n",
        "\n"
      ],
      "metadata": {
        "id": "rhklp7P0oSJP"
      }
    }
  ]
}