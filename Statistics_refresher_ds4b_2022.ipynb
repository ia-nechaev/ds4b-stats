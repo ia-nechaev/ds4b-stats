{
  "nbformat": 4,
  "nbformat_minor": 0,
  "metadata": {
    "colab": {
      "name": "Statistics refresher ds4b 2022.ipynb",
      "provenance": [],
      "authorship_tag": "ABX9TyNU0T2fK/tTwWy6EpwmO0ho",
      "include_colab_link": true
    },
    "kernelspec": {
      "name": "python3",
      "display_name": "Python 3"
    },
    "language_info": {
      "name": "python"
    }
  },
  "cells": [
    {
      "cell_type": "markdown",
      "metadata": {
        "id": "view-in-github",
        "colab_type": "text"
      },
      "source": [
        "<a href=\"https://colab.research.google.com/github/ia-nechaev/ds4b-stats/blob/main/Statistics_refresher_ds4b_2022.ipynb\" target=\"_parent\"><img src=\"https://colab.research.google.com/assets/colab-badge.svg\" alt=\"Open In Colab\"/></a>"
      ]
    },
    {
      "cell_type": "code",
      "execution_count": null,
      "metadata": {
        "id": "27kKOZ8jDhM6"
      },
      "outputs": [],
      "source": []
    }
  ]
}